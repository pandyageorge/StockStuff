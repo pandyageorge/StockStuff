{
 "cells": [
  {
   "cell_type": "code",
   "execution_count": null,
   "id": "94e090c8-bab7-4cc7-8ec5-444d32c2209e",
   "metadata": {
    "tags": []
   },
   "outputs": [],
   "source": [
    "# Uncomment and run the below line to install yfinance\n",
    "# Do this only once. Type \"pip show yfinance\" into terminal to check if it's already been installed. \n",
    "# The installation command can also be run in terminal\n",
    "\n",
    "# pip install yfinance"
   ]
  },
  {
   "cell_type": "code",
   "execution_count": 10,
   "id": "62c67737-c6a7-49c7-8c0e-9cff3dea460e",
   "metadata": {
    "tags": []
   },
   "outputs": [],
   "source": [
    "# Importing libraries to use\n",
    "import yfinance as yf\n",
    "import pandas as pd\n",
    "import os\n",
    "from datetime import datetime, timedelta\n",
    "from pytz import timezone\n",
    "import matplotlib.pyplot as plt\n",
    "import matplotlib.dates as mdates"
   ]
  },
  {
   "cell_type": "code",
   "execution_count": 6,
   "id": "4af6aa5a-d6cd-4501-9a0e-05f36a1ca3eb",
   "metadata": {
    "tags": []
   },
   "outputs": [],
   "source": [
    "# Detect potential trading halts in minute data.\n",
    "# Returns a list of potential halt times.\n",
    "def detect_halt(data_minute):\n",
    "    data_minute['Time Gap'] = data_minute.index.to_series().diff().fillna(pd.Timedelta(seconds=0))\n",
    "    potential_halts = data_minute[data_minute['Time Gap'] > pd.Timedelta(minutes=1)]\n",
    "    return potential_halts.index.tolist()"
   ]
  },
  {
   "cell_type": "code",
   "execution_count": 7,
   "id": "053a9398-3a3d-40ab-a312-b84f3969858e",
   "metadata": {
    "tags": []
   },
   "outputs": [],
   "source": [
    "# Method to check if the ticker fulfills the halt condition:\n",
    "# daily volume of 100,000 or higher that halt down. Then, when they re-open, \n",
    "# they conclude lower than the price of the stock when it was halted.\n",
    "def check_halt_condition(stock_symbol, halt_price, resume_time, conclude_time, ticker_data):\n",
    "    data = ticker_data[stock_symbol]\n",
    "\n",
    "    # Check if resume_time and conclude_time are in data\n",
    "    if resume_time not in data.index or conclude_time not in data.index:\n",
    "        return False\n",
    "\n",
    "    resume_price = data.at[resume_time, 'Open']\n",
    "    conclude_price = data.at[conclude_time, 'Close']\n",
    "\n",
    "    if halt_price > resume_price and conclude_price < halt_price:\n",
    "        return True\n",
    "    return False"
   ]
  },
  {
   "cell_type": "code",
   "execution_count": 15,
   "id": "b6588880-97a3-4023-9b7a-6b8e59f10a22",
   "metadata": {
    "tags": []
   },
   "outputs": [
    {
     "data": {
      "text/plain": [
       "datetime.datetime(2023, 9, 17, 13, 53, 48, 454356)"
      ]
     },
     "execution_count": 15,
     "metadata": {},
     "output_type": "execute_result"
    }
   ],
   "source": [
    "datetime.now()"
   ]
  },
  {
   "cell_type": "code",
   "execution_count": 18,
   "id": "3cd70088-6316-4a21-857f-657bc63d48b2",
   "metadata": {
    "tags": []
   },
   "outputs": [],
   "source": [
    "# Checks and pulls data for all the relevant tickers\n",
    "# Uses current date if you don't pass a specific date\n",
    "def find_stocks(tickers, date=None):\n",
    "    candidates = []\n",
    "    ticker_data = {}\n",
    "\n",
    "    eastern = timezone('US/Eastern')  # Assuming data is in Eastern Time, adjust as needed\n",
    "\n",
    "    # If no date is passed, use today's date\n",
    "    if date is None:\n",
    "        date = datetime.now().date()\n",
    "\n",
    "    for ticker in tickers:\n",
    "        try:\n",
    "            data_daily = yf.download(ticker, start=date, end=date + timedelta(days=1))\n",
    "            if data_daily['Volume'][-1] >= 100000:\n",
    "                data_minute = yf.download(ticker, interval=\"1m\", start=date, end=date + timedelta(days=1))\n",
    "                data_minute = data_minute.tz_convert(eastern)  # Convert to Eastern Time\n",
    "\n",
    "                # Handle empty data\n",
    "                if data_minute.empty:\n",
    "                    print(f\"No minute data for {ticker} on {date}.\")\n",
    "                    continue\n",
    "                    \n",
    "                ticker_data[ticker] = data_minute\n",
    "                \n",
    "                # Detect potential halts\n",
    "                halt_times = detect_halt(data_minute)\n",
    "                \n",
    "                for halt_time in halt_times:\n",
    "                    # For demonstration purposes, assume that trading resumes in the next available minute after the halt.\n",
    "                    resume_time = data_minute.loc[halt_time:].index[1]\n",
    "                    conclude_time = resume_time + pd.Timedelta(minutes=1)\n",
    "\n",
    "                    halt_price = data_minute.at[halt_time, 'Close']\n",
    "\n",
    "                    if check_halt_condition(ticker, halt_price, resume_time, conclude_time, ticker_data):\n",
    "                        candidates.append(ticker)\n",
    "\n",
    "                \n",
    "\n",
    "        except Exception as e:\n",
    "            print(f\"Error processing {ticker}: {e}\")\n",
    "\n",
    "    return candidates, ticker_data"
   ]
  },
  {
   "cell_type": "code",
   "execution_count": 19,
   "id": "a272c51c-d7db-4f34-a863-83e440860ece",
   "metadata": {
    "tags": []
   },
   "outputs": [],
   "source": [
    "# Reads tickers entered line by line into a txt file\n",
    "def read_tickers(filename):\n",
    "    with open(filename,'r') as file:\n",
    "        lines = [line.rstrip() for line in file]\n",
    "    return lines"
   ]
  },
  {
   "cell_type": "code",
   "execution_count": 17,
   "id": "348dfee6-4205-4a4e-b437-a93c32d3af9b",
   "metadata": {},
   "outputs": [
    {
     "name": "stdout",
     "output_type": "stream",
     "text": [
      "[*********************100%%**********************]  1 of 1 completed\n",
      "[*********************100%%**********************]  1 of 1 completed\n",
      "[*********************100%%**********************]  1 of 1 completed\n",
      "[*********************100%%**********************]  1 of 1 completed\n",
      "[*********************100%%**********************]  1 of 1 completed\n",
      "[*********************100%%**********************]  1 of 1 completed\n",
      "Error processing SPGC: index 1 is out of bounds for axis 0 with size 1\n",
      "Stocks to short: ['RETO', 'RETO', 'RETO', 'RETO', 'RETO', 'RETO', 'RETO', 'RETO', 'SPGC', 'SPGC', 'SPGC', 'SPGC', 'SPGC', 'SPGC', 'SPGC', 'SPGC', 'SPGC', 'SPGC', 'SPGC', 'SPGC', 'SPGC', 'SPGC', 'SPGC']\n",
      "NBYMeets halt short condition. Data outputted to CSV\n",
      "RETOMeets halt short condition. Data outputted to CSV\n",
      "SPGCMeets halt short condition. Data outputted to CSV\n"
     ]
    },
    {
     "data": {
      "text/plain": [
       "<Figure size 720x432 with 0 Axes>"
      ]
     },
     "metadata": {},
     "output_type": "display_data"
    },
    {
     "data": {
      "image/png": "[encoded data removed]",
      "text/plain": [
       "<Figure size 432x288 with 1 Axes>"
      ]
     },
     "metadata": {
      "needs_background": "light"
     },
     "output_type": "display_data"
    }
   ],
   "source": [
    "# This is the cell that makes the magic happen\n",
    "# tickers = ['NBY', 'RETO','SPGC']  # Add tickers you are interested in\n",
    "tickers=read_tickers('/Users/georgepandya/Desktop/Stock Strategies/StockStuff/tickers.txt') #Or Read from a file\n",
    "\n",
    "date_to_check = datetime(2023, 9, 11).date()\n",
    "result, all_data = find_stocks(tickers,date_to_check)\n",
    "\n",
    "print(f\"Stocks to short: {result}\")\n",
    "\n",
    "# Plot each of the relevant stocks into \n",
    "plt.figure(figsize=(10,6))\n",
    "fig, ax = plt.subplots()\n",
    "\n",
    "for ticker, df in all_data.items():\n",
    "    # plt.plot(#df['Datetime'].strftime(\"%H:%M:%S\"),\n",
    "    #          df['Open'],label=ticker)\n",
    "    df['Open'].plot(ax=ax,label=ticker)\n",
    "    print(ticker+'Meets halt short condition. Data outputted to CSV')\n",
    "    df.to_csv(ticker+'.csv')\n",
    "# Format the plot\n",
    "# fig, ax = plt.subplots()\n",
    "# ax.plot(dates, values)\n",
    "\n",
    "plt.title(f'Trading data for {datetime.now().date().strftime(\"%m/%d/%Y\")}')\n",
    "plt.xlabel('Time')\n",
    "ax.xaxis.set_major_formatter(mdates.DateFormatter('%H:%M:%S %Z'))\n",
    "plt.xticks(rotation=45)\n",
    "plt.ylabel('Stock Price')\n",
    "plt.legend\n",
    "plt.tight_layout()\n",
    "plt.show()"
   ]
  }
 ],
 "metadata": {
  "kernelspec": {
   "display_name": "Python 3 (ipykernel)",
   "language": "python",
   "name": "python3"
  },
  "language_info": {
   "codemirror_mode": {
    "name": "ipython",
    "version": 3
   },
   "file_extension": ".py",
   "mimetype": "text/x-python",
   "name": "python",
   "nbconvert_exporter": "python",
   "pygments_lexer": "ipython3",
   "version": "3.9.12"
  }
 },
 "nbformat": 4,
 "nbformat_minor": 5
}
